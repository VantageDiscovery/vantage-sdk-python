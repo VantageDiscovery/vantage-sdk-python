{
  "cells": [
    {
      "cell_type": "markdown",
      "metadata": {
        "id": "eDu0gf2FITWU"
      },
      "source": [
        "# Use Cases: Starter Use Case\n",
        "\n",
        "Welcome to the \"Starter Use Case\" Notebook, your step-by-step guide to becoming familiar with the basics of the Vantage SDK.\n",
        "\n",
        "In this notebook, we'll cover the most important functionalities of our SDK, such as creating a collection, preparing the data, uploading the data, and finally querying the collection containing that data.\n",
        "\n",
        "You'll encounter some intermediate steps, and by the end of this example, you'll be prepared to start your journey with Vantage!\n",
        "\n",
        "Let's start!\n",
        "\n",
        "[![Open In Colab](https://colab.research.google.com/assets/colab-badge.svg)]()"
      ]
    },
    {
      "cell_type": "markdown",
      "metadata": {
        "id": "Y8hgkbz1gLH4"
      },
      "source": [
        "### ✅ Installation\n",
        "\n",
        "The first step involves installing the package. Before that, let's make sure we have all necessary dependencies installed as well."
      ]
    },
    {
      "cell_type": "code",
      "execution_count": 1,
      "metadata": {
        "colab": {
          "base_uri": "https://localhost:8080/"
        },
        "id": "63Hci2mgMzGv",
        "outputId": "6b73786c-5b2a-42e9-d134-4b788e2b03a7"
      },
      "outputs": [
        {
          "output_type": "stream",
          "name": "stdout",
          "text": [
            "Requirement already satisfied: pydantic==2.6.1 in /usr/local/lib/python3.10/dist-packages (2.6.1)\n",
            "Requirement already satisfied: urllib3==2.0.7 in /usr/local/lib/python3.10/dist-packages (2.0.7)\n",
            "Requirement already satisfied: annotated-types>=0.4.0 in /usr/local/lib/python3.10/dist-packages (from pydantic==2.6.1) (0.6.0)\n",
            "Requirement already satisfied: pydantic-core==2.16.2 in /usr/local/lib/python3.10/dist-packages (from pydantic==2.6.1) (2.16.2)\n",
            "Requirement already satisfied: typing-extensions>=4.6.1 in /usr/local/lib/python3.10/dist-packages (from pydantic==2.6.1) (4.9.0)\n"
          ]
        }
      ],
      "source": [
        "pip install pydantic==2.6.1 urllib3==2.0.7"
      ]
    },
    {
      "cell_type": "markdown",
      "metadata": {
        "id": "DmJrNLLwMzUR"
      },
      "source": [
        "Execute the command below to install [Vantage](https://test.pypi.org/project/vantage-sdk/):\n",
        "\n",
        "> ❗ *Currently, we are using Test PyPi, but we are planning transition to the official PyPi index soon*"
      ]
    },
    {
      "cell_type": "code",
      "execution_count": 2,
      "metadata": {
        "colab": {
          "base_uri": "https://localhost:8080/"
        },
        "id": "I7FFr1NNgLID",
        "outputId": "9e67f108-d677-40d8-eb42-0d942b491258"
      },
      "outputs": [
        {
          "output_type": "stream",
          "name": "stdout",
          "text": [
            "Looking in indexes: https://test.pypi.org/simple/\n",
            "Collecting vantage-sdk==0.0.5\n",
            "  Downloading https://test-files.pythonhosted.org/packages/ee/b7/316a716a9e0a6bf466fbec05d4ddb7fd82b4da29153d20e62518abce7a76/vantage_sdk-0.0.5-py3-none-any.whl (100 kB)\n",
            "\u001b[2K     \u001b[90m━━━━━━━━━━━━━━━━━━━━━━━━━━━━━━━━━━━━━━━━\u001b[0m \u001b[32m100.5/100.5 kB\u001b[0m \u001b[31m1.7 MB/s\u001b[0m eta \u001b[36m0:00:00\u001b[0m\n",
            "\u001b[?25hRequirement already satisfied: pydantic>=2 in /usr/local/lib/python3.10/dist-packages (from vantage-sdk==0.0.5) (2.6.1)\n",
            "Requirement already satisfied: python-dateutil<3,>=2 in /usr/local/lib/python3.10/dist-packages (from vantage-sdk==0.0.5) (2.8.2)\n",
            "Requirement already satisfied: requests<3,>=2 in /usr/local/lib/python3.10/dist-packages (from vantage-sdk==0.0.5) (2.31.0)\n",
            "Requirement already satisfied: urllib3<3,>=2 in /usr/local/lib/python3.10/dist-packages (from vantage-sdk==0.0.5) (2.0.7)\n",
            "Requirement already satisfied: annotated-types>=0.4.0 in /usr/local/lib/python3.10/dist-packages (from pydantic>=2->vantage-sdk==0.0.5) (0.6.0)\n",
            "Requirement already satisfied: pydantic-core==2.16.2 in /usr/local/lib/python3.10/dist-packages (from pydantic>=2->vantage-sdk==0.0.5) (2.16.2)\n",
            "Requirement already satisfied: typing-extensions>=4.6.1 in /usr/local/lib/python3.10/dist-packages (from pydantic>=2->vantage-sdk==0.0.5) (4.9.0)\n",
            "Requirement already satisfied: six>=1.5 in /usr/local/lib/python3.10/dist-packages (from python-dateutil<3,>=2->vantage-sdk==0.0.5) (1.16.0)\n",
            "Requirement already satisfied: charset-normalizer<4,>=2 in /usr/local/lib/python3.10/dist-packages (from requests<3,>=2->vantage-sdk==0.0.5) (3.3.2)\n",
            "Requirement already satisfied: idna<4,>=2.5 in /usr/local/lib/python3.10/dist-packages (from requests<3,>=2->vantage-sdk==0.0.5) (3.6)\n",
            "Requirement already satisfied: certifi>=2017.4.17 in /usr/local/lib/python3.10/dist-packages (from requests<3,>=2->vantage-sdk==0.0.5) (2024.2.2)\n",
            "Installing collected packages: vantage-sdk\n",
            "Successfully installed vantage-sdk-0.0.5\n"
          ]
        }
      ],
      "source": [
        "pip install -i https://test.pypi.org/simple/ vantage-sdk==0.0.5"
      ]
    },
    {
      "cell_type": "markdown",
      "metadata": {
        "id": "D1zAhbo_gLIE"
      },
      "source": [
        "As usual, let's import the necessary libraries for this example:"
      ]
    },
    {
      "cell_type": "code",
      "execution_count": 3,
      "metadata": {
        "id": "3sEopB8vgLIE"
      },
      "outputs": [],
      "source": [
        "import os"
      ]
    },
    {
      "cell_type": "markdown",
      "metadata": {
        "id": "tYuJRpRkI7BF"
      },
      "source": [
        "### ✅ Initialization\n",
        "\n",
        "In this example, we will authenticate using a JWT token.\n",
        "For additional details on initializing the Vantage client, refer to the [notebook](../initializing_the_client.ipynb) that covers this topic first.\n",
        "\n",
        "Please update the following two cells with the appropriate values."
      ]
    },
    {
      "cell_type": "code",
      "execution_count": 4,
      "metadata": {
        "id": "YLC71xi7I6aj"
      },
      "outputs": [],
      "source": [
        "ACCOUNT_ID = \"YOUR_ACCOUNT_ID\"\n",
        "API_HOST = \"https://api.dev-a.dev.vantagediscovery.com\""
      ]
    },
    {
      "cell_type": "code",
      "execution_count": null,
      "metadata": {
        "id": "Kur-ZAHSI_-i"
      },
      "outputs": [],
      "source": [
        "%env VANTAGE_JWT_TOKEN=YOUR_VANTAGE_JWT_TOKEN"
      ]
    },
    {
      "cell_type": "code",
      "execution_count": 6,
      "metadata": {
        "id": "Fqh1gtNuJCDW"
      },
      "outputs": [],
      "source": [
        "from vantage import Vantage\n",
        "\n",
        "vantage_instance = Vantage.using_jwt_token(\n",
        "    vantage_api_jwt_token=os.environ[\"VANTAGE_JWT_TOKEN\"],\n",
        "    account_id=ACCOUNT_ID,\n",
        "    api_host=API_HOST,\n",
        ")"
      ]
    },
    {
      "cell_type": "markdown",
      "metadata": {
        "id": "2073GagvNEE2"
      },
      "source": [
        "### ✅ Creating External API Key\n",
        "\n",
        "Let's create External API Key. We will need it later to create our Vantage Managed Embeddings (VME) collection.\n",
        "\n",
        "> For more details on external keys or different collection types, check our [documentation](https://docs.vantagediscovery.com/docs/collections) or notebooks from our [Getting Started with Vantage](https://github.com/VantageDiscovery/vantage-sdk-python/blob/develop/examples/notebooks/getting_started/) series.\n",
        "\n",
        "We'll use OpenAI as LLM provider for our in this example. Please update the following cell with your LLM secret key."
      ]
    },
    {
      "cell_type": "code",
      "execution_count": null,
      "metadata": {
        "id": "g4LHsbU1nHTM"
      },
      "outputs": [],
      "source": [
        "LLM_SECRET = \"YOUR_LLM_SECRET\"\n",
        "\n",
        "external_api_key = vantage_instance.create_external_api_key(\n",
        "    llm_provider = \"OpenAI\",\n",
        "    llm_secret = LLM_SECRET,\n",
        "    url = None,\n",
        ")\n",
        "\n",
        "external_api_key"
      ]
    },
    {
      "cell_type": "markdown",
      "source": [
        "Let's get the external API key ID, which we will use in the next step."
      ],
      "metadata": {
        "id": "QckQ1r9yxkai"
      }
    },
    {
      "cell_type": "code",
      "execution_count": 8,
      "metadata": {
        "colab": {
          "base_uri": "https://localhost:8080/",
          "height": 35
        },
        "id": "HyMXMo_QniDe",
        "outputId": "d21b9b1e-04af-4084-f422-fcc42ffcb30a"
      },
      "outputs": [
        {
          "output_type": "execute_result",
          "data": {
            "text/plain": [
              "'2edb92de-d26c-4127-b0f0-0ea693886e1b'"
            ],
            "application/vnd.google.colaboratory.intrinsic+json": {
              "type": "string"
            }
          },
          "metadata": {},
          "execution_count": 8
        }
      ],
      "source": [
        "external_api_key.external_key_id"
      ]
    },
    {
      "cell_type": "markdown",
      "metadata": {
        "id": "GVaSuaQcJFKT"
      },
      "source": [
        "### ✅ Creating Collection\n",
        "\n",
        "In this example, we're going to set up a Vantage Managed Embeddings (VME) collection, as we mentioned above.\n",
        "\n",
        "We'll use an External API Key previously created for the OpenAI LLM provider. Our choice will be the `text-embedding-ada-002` model, for which we'll specify the embedding dimension of `1536`.\n",
        "\n",
        "As standard practice, we will also provide the `collection_id` and `collection_name`.\n",
        "\n",
        "Update the following cell with your external key id."
      ]
    },
    {
      "cell_type": "code",
      "execution_count": 21,
      "metadata": {
        "id": "044xY9QjOoH_"
      },
      "outputs": [],
      "source": [
        "COLLECTION_ID = \"furniture-collection\"\n",
        "EXTERNAL_KEY_ID = \"2edb92de-d26c-4127-b0f0-0ea693886e1b\""
      ]
    },
    {
      "cell_type": "markdown",
      "source": [
        "Now, let's create our collection."
      ],
      "metadata": {
        "id": "GiP_2HCiyNGB"
      }
    },
    {
      "cell_type": "code",
      "execution_count": 22,
      "metadata": {
        "id": "jpvEvg1OJh1w"
      },
      "outputs": [],
      "source": [
        "collection = vantage_instance.create_collection(\n",
        "    collection_id = COLLECTION_ID,\n",
        "    collection_name = \"Furniture Collection\",\n",
        "    embeddings_dimension = 1536,\n",
        "    llm = \"text-embedding-ada-002\",\n",
        "    external_key_id = EXTERNAL_KEY_ID\n",
        ")"
      ]
    },
    {
      "cell_type": "markdown",
      "metadata": {
        "id": "gHoLE974Jdnt"
      },
      "source": [
        "### ✅ Preparing Data\n",
        "\n"
      ]
    },
    {
      "cell_type": "markdown",
      "metadata": {
        "id": "44MBfpEKm-Cv"
      },
      "source": [
        "Next, we will need some data for our new collection. To upload it to Vantage, we need to prepare it in the correct format. For this, we'll use the *pandas* library. Ensure it is installed before moving forward."
      ]
    },
    {
      "cell_type": "code",
      "execution_count": 23,
      "metadata": {
        "id": "mAfszZOT1DN_",
        "colab": {
          "base_uri": "https://localhost:8080/"
        },
        "outputId": "156bea87-3d69-4d22-ff2c-de6ea3fb4c26"
      },
      "outputs": [
        {
          "output_type": "stream",
          "name": "stdout",
          "text": [
            "Requirement already satisfied: pandas==1.5.3 in /usr/local/lib/python3.10/dist-packages (1.5.3)\n",
            "Requirement already satisfied: python-dateutil>=2.8.1 in /usr/local/lib/python3.10/dist-packages (from pandas==1.5.3) (2.8.2)\n",
            "Requirement already satisfied: pytz>=2020.1 in /usr/local/lib/python3.10/dist-packages (from pandas==1.5.3) (2023.4)\n",
            "Requirement already satisfied: numpy>=1.21.0 in /usr/local/lib/python3.10/dist-packages (from pandas==1.5.3) (1.23.5)\n",
            "Requirement already satisfied: six>=1.5 in /usr/local/lib/python3.10/dist-packages (from python-dateutil>=2.8.1->pandas==1.5.3) (1.16.0)\n"
          ]
        }
      ],
      "source": [
        "pip install pandas==1.5.3"
      ]
    },
    {
      "cell_type": "code",
      "execution_count": 24,
      "metadata": {
        "id": "sWxYd7KLpFLX"
      },
      "outputs": [],
      "source": [
        "import pandas as pd"
      ]
    },
    {
      "cell_type": "markdown",
      "source": [
        "[In progress] Downloading the data."
      ],
      "metadata": {
        "id": "zAIOLLoSyuvv"
      }
    },
    {
      "cell_type": "code",
      "execution_count": 25,
      "metadata": {
        "colab": {
          "base_uri": "https://localhost:8080/",
          "height": 170
        },
        "id": "o9G9mHt0Jg2F",
        "outputId": "c156beb5-ca9e-4139-de85-70de5d0b2e48"
      },
      "outputs": [
        {
          "output_type": "execute_result",
          "data": {
            "text/plain": [
              "                                    id  \\\n",
              "5077  6067e3a06df79045d50077c83878424f   \n",
              "\n",
              "                                                   text  \\\n",
              "5077  The Euclid / Record Console /Customizable Reco...   \n",
              "\n",
              "                  meta_category meta_rating_bucket meta_numratings_bucket  \\\n",
              "5077  Console Tables & Cabinets            5 stars               hundreds   \n",
              "\n",
              "                                               noop_url  noop_rating  \\\n",
              "5077  https://www.etsy.com/listing/1231579806/the-eu...          5.0   \n",
              "\n",
              "      noop_numratings                                     noop_image_url  \\\n",
              "5077            721.0  https://i.etsystatic.com/25453291/r/il/3830b3/...   \n",
              "\n",
              "                                       noop_description  \\\n",
              "5077  The Euclid / Record Console /Customizable Reco...   \n",
              "\n",
              "                                  noop_title  \n",
              "5077  The Euclid Record Console Customizable  "
            ],
            "text/html": [
              "\n",
              "  <div id=\"df-8afa2757-6fea-44ba-9ce3-6e20a5aa22e6\" class=\"colab-df-container\">\n",
              "    <div>\n",
              "<style scoped>\n",
              "    .dataframe tbody tr th:only-of-type {\n",
              "        vertical-align: middle;\n",
              "    }\n",
              "\n",
              "    .dataframe tbody tr th {\n",
              "        vertical-align: top;\n",
              "    }\n",
              "\n",
              "    .dataframe thead th {\n",
              "        text-align: right;\n",
              "    }\n",
              "</style>\n",
              "<table border=\"1\" class=\"dataframe\">\n",
              "  <thead>\n",
              "    <tr style=\"text-align: right;\">\n",
              "      <th></th>\n",
              "      <th>id</th>\n",
              "      <th>text</th>\n",
              "      <th>meta_category</th>\n",
              "      <th>meta_rating_bucket</th>\n",
              "      <th>meta_numratings_bucket</th>\n",
              "      <th>noop_url</th>\n",
              "      <th>noop_rating</th>\n",
              "      <th>noop_numratings</th>\n",
              "      <th>noop_image_url</th>\n",
              "      <th>noop_description</th>\n",
              "      <th>noop_title</th>\n",
              "    </tr>\n",
              "  </thead>\n",
              "  <tbody>\n",
              "    <tr>\n",
              "      <th>5077</th>\n",
              "      <td>6067e3a06df79045d50077c83878424f</td>\n",
              "      <td>The Euclid / Record Console /Customizable Reco...</td>\n",
              "      <td>Console Tables &amp; Cabinets</td>\n",
              "      <td>5 stars</td>\n",
              "      <td>hundreds</td>\n",
              "      <td>https://www.etsy.com/listing/1231579806/the-eu...</td>\n",
              "      <td>5.0</td>\n",
              "      <td>721.0</td>\n",
              "      <td>https://i.etsystatic.com/25453291/r/il/3830b3/...</td>\n",
              "      <td>The Euclid / Record Console /Customizable Reco...</td>\n",
              "      <td>The Euclid Record Console Customizable</td>\n",
              "    </tr>\n",
              "  </tbody>\n",
              "</table>\n",
              "</div>\n",
              "    <div class=\"colab-df-buttons\">\n",
              "\n",
              "  <div class=\"colab-df-container\">\n",
              "    <button class=\"colab-df-convert\" onclick=\"convertToInteractive('df-8afa2757-6fea-44ba-9ce3-6e20a5aa22e6')\"\n",
              "            title=\"Convert this dataframe to an interactive table.\"\n",
              "            style=\"display:none;\">\n",
              "\n",
              "  <svg xmlns=\"http://www.w3.org/2000/svg\" height=\"24px\" viewBox=\"0 -960 960 960\">\n",
              "    <path d=\"M120-120v-720h720v720H120Zm60-500h600v-160H180v160Zm220 220h160v-160H400v160Zm0 220h160v-160H400v160ZM180-400h160v-160H180v160Zm440 0h160v-160H620v160ZM180-180h160v-160H180v160Zm440 0h160v-160H620v160Z\"/>\n",
              "  </svg>\n",
              "    </button>\n",
              "\n",
              "  <style>\n",
              "    .colab-df-container {\n",
              "      display:flex;\n",
              "      gap: 12px;\n",
              "    }\n",
              "\n",
              "    .colab-df-convert {\n",
              "      background-color: #E8F0FE;\n",
              "      border: none;\n",
              "      border-radius: 50%;\n",
              "      cursor: pointer;\n",
              "      display: none;\n",
              "      fill: #1967D2;\n",
              "      height: 32px;\n",
              "      padding: 0 0 0 0;\n",
              "      width: 32px;\n",
              "    }\n",
              "\n",
              "    .colab-df-convert:hover {\n",
              "      background-color: #E2EBFA;\n",
              "      box-shadow: 0px 1px 2px rgba(60, 64, 67, 0.3), 0px 1px 3px 1px rgba(60, 64, 67, 0.15);\n",
              "      fill: #174EA6;\n",
              "    }\n",
              "\n",
              "    .colab-df-buttons div {\n",
              "      margin-bottom: 4px;\n",
              "    }\n",
              "\n",
              "    [theme=dark] .colab-df-convert {\n",
              "      background-color: #3B4455;\n",
              "      fill: #D2E3FC;\n",
              "    }\n",
              "\n",
              "    [theme=dark] .colab-df-convert:hover {\n",
              "      background-color: #434B5C;\n",
              "      box-shadow: 0px 1px 3px 1px rgba(0, 0, 0, 0.15);\n",
              "      filter: drop-shadow(0px 1px 2px rgba(0, 0, 0, 0.3));\n",
              "      fill: #FFFFFF;\n",
              "    }\n",
              "  </style>\n",
              "\n",
              "    <script>\n",
              "      const buttonEl =\n",
              "        document.querySelector('#df-8afa2757-6fea-44ba-9ce3-6e20a5aa22e6 button.colab-df-convert');\n",
              "      buttonEl.style.display =\n",
              "        google.colab.kernel.accessAllowed ? 'block' : 'none';\n",
              "\n",
              "      async function convertToInteractive(key) {\n",
              "        const element = document.querySelector('#df-8afa2757-6fea-44ba-9ce3-6e20a5aa22e6');\n",
              "        const dataTable =\n",
              "          await google.colab.kernel.invokeFunction('convertToInteractive',\n",
              "                                                    [key], {});\n",
              "        if (!dataTable) return;\n",
              "\n",
              "        const docLinkHtml = 'Like what you see? Visit the ' +\n",
              "          '<a target=\"_blank\" href=https://colab.research.google.com/notebooks/data_table.ipynb>data table notebook</a>'\n",
              "          + ' to learn more about interactive tables.';\n",
              "        element.innerHTML = '';\n",
              "        dataTable['output_type'] = 'display_data';\n",
              "        await google.colab.output.renderOutput(dataTable, element);\n",
              "        const docLink = document.createElement('div');\n",
              "        docLink.innerHTML = docLinkHtml;\n",
              "        element.appendChild(docLink);\n",
              "      }\n",
              "    </script>\n",
              "  </div>\n",
              "\n",
              "    </div>\n",
              "  </div>\n"
            ]
          },
          "metadata": {},
          "execution_count": 25
        }
      ],
      "source": [
        "furniture_data = pd.read_parquet(\"vantage_furniture_tutorial.parquet\")\n",
        "furniture_data.sample()"
      ]
    },
    {
      "cell_type": "markdown",
      "source": [
        "[In progress] Before uploading the data, we will eliminate some columns and keep only those that are important to us."
      ],
      "metadata": {
        "id": "xROL3FPvy2a7"
      }
    },
    {
      "cell_type": "code",
      "source": [
        "columns_to_keep = [\"id\", \"text\", \"meta_category\", \"meta_rating_bucket\", \"meta_numratings_bucket\"]\n",
        "\n",
        "furniture_prepared = furniture_data[columns_to_keep]\n",
        "furniture_prepared.head()"
      ],
      "metadata": {
        "colab": {
          "base_uri": "https://localhost:8080/",
          "height": 206
        },
        "id": "S3Z5zVTkSalf",
        "outputId": "c0e4e842-4a4d-48ea-b210-f1d1afef63b4"
      },
      "execution_count": 26,
      "outputs": [
        {
          "output_type": "execute_result",
          "data": {
            "text/plain": [
              "                                 id  \\\n",
              "0  c76532c4c9f16dfd0d5f4ff630a18e20   \n",
              "1  545110c7c31fd107f9092c74d44e2aa1   \n",
              "2  2c4a4b1d9c0738907cd4a94c3738bff7   \n",
              "3  9e11e1bc4cc09ae548e870b3c67882d0   \n",
              "4  cd20ee1e96cec7b1c4781538bc7ef625   \n",
              "\n",
              "                                                text  \\\n",
              "0  Console table made of old solid wood beams joi...   \n",
              "1  Narrow Console Table, 9.8\" Deep Entry Table ♥ ...   \n",
              "2  glass coffee table Do not settle for less when...   \n",
              "3  Linen fabric Floor seating sofa,Off white Beig...   \n",
              "4  Coffee Table - South American Walnut, Live Edg...   \n",
              "\n",
              "               meta_category meta_rating_bucket meta_numratings_bucket  \n",
              "0  Console Tables & Cabinets            5 stars                 dozens  \n",
              "1  Console Tables & Cabinets            5 stars                 dozens  \n",
              "2                       None               None                   None  \n",
              "3        Couches & Loveseats            5 stars               hundreds  \n",
              "4        Coffee & End Tables            5 stars                   None  "
            ],
            "text/html": [
              "\n",
              "  <div id=\"df-dcde912f-29a8-44ae-b056-88b158855f18\" class=\"colab-df-container\">\n",
              "    <div>\n",
              "<style scoped>\n",
              "    .dataframe tbody tr th:only-of-type {\n",
              "        vertical-align: middle;\n",
              "    }\n",
              "\n",
              "    .dataframe tbody tr th {\n",
              "        vertical-align: top;\n",
              "    }\n",
              "\n",
              "    .dataframe thead th {\n",
              "        text-align: right;\n",
              "    }\n",
              "</style>\n",
              "<table border=\"1\" class=\"dataframe\">\n",
              "  <thead>\n",
              "    <tr style=\"text-align: right;\">\n",
              "      <th></th>\n",
              "      <th>id</th>\n",
              "      <th>text</th>\n",
              "      <th>meta_category</th>\n",
              "      <th>meta_rating_bucket</th>\n",
              "      <th>meta_numratings_bucket</th>\n",
              "    </tr>\n",
              "  </thead>\n",
              "  <tbody>\n",
              "    <tr>\n",
              "      <th>0</th>\n",
              "      <td>c76532c4c9f16dfd0d5f4ff630a18e20</td>\n",
              "      <td>Console table made of old solid wood beams joi...</td>\n",
              "      <td>Console Tables &amp; Cabinets</td>\n",
              "      <td>5 stars</td>\n",
              "      <td>dozens</td>\n",
              "    </tr>\n",
              "    <tr>\n",
              "      <th>1</th>\n",
              "      <td>545110c7c31fd107f9092c74d44e2aa1</td>\n",
              "      <td>Narrow Console Table, 9.8\" Deep Entry Table ♥ ...</td>\n",
              "      <td>Console Tables &amp; Cabinets</td>\n",
              "      <td>5 stars</td>\n",
              "      <td>dozens</td>\n",
              "    </tr>\n",
              "    <tr>\n",
              "      <th>2</th>\n",
              "      <td>2c4a4b1d9c0738907cd4a94c3738bff7</td>\n",
              "      <td>glass coffee table Do not settle for less when...</td>\n",
              "      <td>None</td>\n",
              "      <td>None</td>\n",
              "      <td>None</td>\n",
              "    </tr>\n",
              "    <tr>\n",
              "      <th>3</th>\n",
              "      <td>9e11e1bc4cc09ae548e870b3c67882d0</td>\n",
              "      <td>Linen fabric Floor seating sofa,Off white Beig...</td>\n",
              "      <td>Couches &amp; Loveseats</td>\n",
              "      <td>5 stars</td>\n",
              "      <td>hundreds</td>\n",
              "    </tr>\n",
              "    <tr>\n",
              "      <th>4</th>\n",
              "      <td>cd20ee1e96cec7b1c4781538bc7ef625</td>\n",
              "      <td>Coffee Table - South American Walnut, Live Edg...</td>\n",
              "      <td>Coffee &amp; End Tables</td>\n",
              "      <td>5 stars</td>\n",
              "      <td>None</td>\n",
              "    </tr>\n",
              "  </tbody>\n",
              "</table>\n",
              "</div>\n",
              "    <div class=\"colab-df-buttons\">\n",
              "\n",
              "  <div class=\"colab-df-container\">\n",
              "    <button class=\"colab-df-convert\" onclick=\"convertToInteractive('df-dcde912f-29a8-44ae-b056-88b158855f18')\"\n",
              "            title=\"Convert this dataframe to an interactive table.\"\n",
              "            style=\"display:none;\">\n",
              "\n",
              "  <svg xmlns=\"http://www.w3.org/2000/svg\" height=\"24px\" viewBox=\"0 -960 960 960\">\n",
              "    <path d=\"M120-120v-720h720v720H120Zm60-500h600v-160H180v160Zm220 220h160v-160H400v160Zm0 220h160v-160H400v160ZM180-400h160v-160H180v160Zm440 0h160v-160H620v160ZM180-180h160v-160H180v160Zm440 0h160v-160H620v160Z\"/>\n",
              "  </svg>\n",
              "    </button>\n",
              "\n",
              "  <style>\n",
              "    .colab-df-container {\n",
              "      display:flex;\n",
              "      gap: 12px;\n",
              "    }\n",
              "\n",
              "    .colab-df-convert {\n",
              "      background-color: #E8F0FE;\n",
              "      border: none;\n",
              "      border-radius: 50%;\n",
              "      cursor: pointer;\n",
              "      display: none;\n",
              "      fill: #1967D2;\n",
              "      height: 32px;\n",
              "      padding: 0 0 0 0;\n",
              "      width: 32px;\n",
              "    }\n",
              "\n",
              "    .colab-df-convert:hover {\n",
              "      background-color: #E2EBFA;\n",
              "      box-shadow: 0px 1px 2px rgba(60, 64, 67, 0.3), 0px 1px 3px 1px rgba(60, 64, 67, 0.15);\n",
              "      fill: #174EA6;\n",
              "    }\n",
              "\n",
              "    .colab-df-buttons div {\n",
              "      margin-bottom: 4px;\n",
              "    }\n",
              "\n",
              "    [theme=dark] .colab-df-convert {\n",
              "      background-color: #3B4455;\n",
              "      fill: #D2E3FC;\n",
              "    }\n",
              "\n",
              "    [theme=dark] .colab-df-convert:hover {\n",
              "      background-color: #434B5C;\n",
              "      box-shadow: 0px 1px 3px 1px rgba(0, 0, 0, 0.15);\n",
              "      filter: drop-shadow(0px 1px 2px rgba(0, 0, 0, 0.3));\n",
              "      fill: #FFFFFF;\n",
              "    }\n",
              "  </style>\n",
              "\n",
              "    <script>\n",
              "      const buttonEl =\n",
              "        document.querySelector('#df-dcde912f-29a8-44ae-b056-88b158855f18 button.colab-df-convert');\n",
              "      buttonEl.style.display =\n",
              "        google.colab.kernel.accessAllowed ? 'block' : 'none';\n",
              "\n",
              "      async function convertToInteractive(key) {\n",
              "        const element = document.querySelector('#df-dcde912f-29a8-44ae-b056-88b158855f18');\n",
              "        const dataTable =\n",
              "          await google.colab.kernel.invokeFunction('convertToInteractive',\n",
              "                                                    [key], {});\n",
              "        if (!dataTable) return;\n",
              "\n",
              "        const docLinkHtml = 'Like what you see? Visit the ' +\n",
              "          '<a target=\"_blank\" href=https://colab.research.google.com/notebooks/data_table.ipynb>data table notebook</a>'\n",
              "          + ' to learn more about interactive tables.';\n",
              "        element.innerHTML = '';\n",
              "        dataTable['output_type'] = 'display_data';\n",
              "        await google.colab.output.renderOutput(dataTable, element);\n",
              "        const docLink = document.createElement('div');\n",
              "        docLink.innerHTML = docLinkHtml;\n",
              "        element.appendChild(docLink);\n",
              "      }\n",
              "    </script>\n",
              "  </div>\n",
              "\n",
              "\n",
              "<div id=\"df-7142a085-49b3-4758-b6db-b2ef988dcbe5\">\n",
              "  <button class=\"colab-df-quickchart\" onclick=\"quickchart('df-7142a085-49b3-4758-b6db-b2ef988dcbe5')\"\n",
              "            title=\"Suggest charts\"\n",
              "            style=\"display:none;\">\n",
              "\n",
              "<svg xmlns=\"http://www.w3.org/2000/svg\" height=\"24px\"viewBox=\"0 0 24 24\"\n",
              "     width=\"24px\">\n",
              "    <g>\n",
              "        <path d=\"M19 3H5c-1.1 0-2 .9-2 2v14c0 1.1.9 2 2 2h14c1.1 0 2-.9 2-2V5c0-1.1-.9-2-2-2zM9 17H7v-7h2v7zm4 0h-2V7h2v10zm4 0h-2v-4h2v4z\"/>\n",
              "    </g>\n",
              "</svg>\n",
              "  </button>\n",
              "\n",
              "<style>\n",
              "  .colab-df-quickchart {\n",
              "      --bg-color: #E8F0FE;\n",
              "      --fill-color: #1967D2;\n",
              "      --hover-bg-color: #E2EBFA;\n",
              "      --hover-fill-color: #174EA6;\n",
              "      --disabled-fill-color: #AAA;\n",
              "      --disabled-bg-color: #DDD;\n",
              "  }\n",
              "\n",
              "  [theme=dark] .colab-df-quickchart {\n",
              "      --bg-color: #3B4455;\n",
              "      --fill-color: #D2E3FC;\n",
              "      --hover-bg-color: #434B5C;\n",
              "      --hover-fill-color: #FFFFFF;\n",
              "      --disabled-bg-color: #3B4455;\n",
              "      --disabled-fill-color: #666;\n",
              "  }\n",
              "\n",
              "  .colab-df-quickchart {\n",
              "    background-color: var(--bg-color);\n",
              "    border: none;\n",
              "    border-radius: 50%;\n",
              "    cursor: pointer;\n",
              "    display: none;\n",
              "    fill: var(--fill-color);\n",
              "    height: 32px;\n",
              "    padding: 0;\n",
              "    width: 32px;\n",
              "  }\n",
              "\n",
              "  .colab-df-quickchart:hover {\n",
              "    background-color: var(--hover-bg-color);\n",
              "    box-shadow: 0 1px 2px rgba(60, 64, 67, 0.3), 0 1px 3px 1px rgba(60, 64, 67, 0.15);\n",
              "    fill: var(--button-hover-fill-color);\n",
              "  }\n",
              "\n",
              "  .colab-df-quickchart-complete:disabled,\n",
              "  .colab-df-quickchart-complete:disabled:hover {\n",
              "    background-color: var(--disabled-bg-color);\n",
              "    fill: var(--disabled-fill-color);\n",
              "    box-shadow: none;\n",
              "  }\n",
              "\n",
              "  .colab-df-spinner {\n",
              "    border: 2px solid var(--fill-color);\n",
              "    border-color: transparent;\n",
              "    border-bottom-color: var(--fill-color);\n",
              "    animation:\n",
              "      spin 1s steps(1) infinite;\n",
              "  }\n",
              "\n",
              "  @keyframes spin {\n",
              "    0% {\n",
              "      border-color: transparent;\n",
              "      border-bottom-color: var(--fill-color);\n",
              "      border-left-color: var(--fill-color);\n",
              "    }\n",
              "    20% {\n",
              "      border-color: transparent;\n",
              "      border-left-color: var(--fill-color);\n",
              "      border-top-color: var(--fill-color);\n",
              "    }\n",
              "    30% {\n",
              "      border-color: transparent;\n",
              "      border-left-color: var(--fill-color);\n",
              "      border-top-color: var(--fill-color);\n",
              "      border-right-color: var(--fill-color);\n",
              "    }\n",
              "    40% {\n",
              "      border-color: transparent;\n",
              "      border-right-color: var(--fill-color);\n",
              "      border-top-color: var(--fill-color);\n",
              "    }\n",
              "    60% {\n",
              "      border-color: transparent;\n",
              "      border-right-color: var(--fill-color);\n",
              "    }\n",
              "    80% {\n",
              "      border-color: transparent;\n",
              "      border-right-color: var(--fill-color);\n",
              "      border-bottom-color: var(--fill-color);\n",
              "    }\n",
              "    90% {\n",
              "      border-color: transparent;\n",
              "      border-bottom-color: var(--fill-color);\n",
              "    }\n",
              "  }\n",
              "</style>\n",
              "\n",
              "  <script>\n",
              "    async function quickchart(key) {\n",
              "      const quickchartButtonEl =\n",
              "        document.querySelector('#' + key + ' button');\n",
              "      quickchartButtonEl.disabled = true;  // To prevent multiple clicks.\n",
              "      quickchartButtonEl.classList.add('colab-df-spinner');\n",
              "      try {\n",
              "        const charts = await google.colab.kernel.invokeFunction(\n",
              "            'suggestCharts', [key], {});\n",
              "      } catch (error) {\n",
              "        console.error('Error during call to suggestCharts:', error);\n",
              "      }\n",
              "      quickchartButtonEl.classList.remove('colab-df-spinner');\n",
              "      quickchartButtonEl.classList.add('colab-df-quickchart-complete');\n",
              "    }\n",
              "    (() => {\n",
              "      let quickchartButtonEl =\n",
              "        document.querySelector('#df-7142a085-49b3-4758-b6db-b2ef988dcbe5 button');\n",
              "      quickchartButtonEl.style.display =\n",
              "        google.colab.kernel.accessAllowed ? 'block' : 'none';\n",
              "    })();\n",
              "  </script>\n",
              "</div>\n",
              "    </div>\n",
              "  </div>\n"
            ]
          },
          "metadata": {},
          "execution_count": 26
        }
      ]
    },
    {
      "cell_type": "markdown",
      "metadata": {
        "id": "_BYnaNIZ1lIW"
      },
      "source": [
        "Let's convert our parquet furniture data into the JSONL format, which is suitable for our method, and store it in the `documents` variable."
      ]
    },
    {
      "cell_type": "code",
      "execution_count": 27,
      "metadata": {
        "id": "9c-LSJRDpSQ9"
      },
      "outputs": [],
      "source": [
        "documents = furniture_prepared.to_json(path_or_buf=None, orient='records', lines=True)"
      ]
    },
    {
      "cell_type": "markdown",
      "metadata": {
        "id": "IIO8nZpOJif8"
      },
      "source": [
        "### ✅ Uploading Data\n",
        "\n",
        "Now we are ready and we can easily upload our prepared data using `upload_documents_from_jsonl` method. We just need to specify our `collection_id` and pass our `documents`.\n",
        "\n",
        "> You can also upload the data from a path, check our [Documents Upload notebook](https://github.com/VantageDiscovery/vantage-sdk-python/blob/develop/examples/notebooks/getting_started/management_api/documents_upload.ipynb) for more details."
      ]
    },
    {
      "cell_type": "code",
      "execution_count": 28,
      "metadata": {
        "id": "FPwVFsScov2f"
      },
      "outputs": [],
      "source": [
        "vantage_instance.upload_documents_from_jsonl(\n",
        "    collection_id = COLLECTION_ID,\n",
        "    documents = documents\n",
        ")"
      ]
    },
    {
      "cell_type": "markdown",
      "metadata": {
        "id": "DS4OGi-AJlUc"
      },
      "source": [
        "### ✅ Querying Collection\n",
        "\n",
        "In this example, we'll show how to use the `semantic_search` feature to query our collection.\n",
        "\n",
        "We'll enter our query in the `text` field, specify the collection we want to search by providing its `collection_id`, and set up the Vantage API key (`vantage_api_key`).\n",
        "\n",
        "Vantage API Key can be found on the Vantage Console UI or retrieved programmatically using the SDK through the `get_vantage_api_keys` method. We'll use the second option in this example."
      ]
    },
    {
      "cell_type": "code",
      "execution_count": null,
      "metadata": {
        "id": "UaRlmcgCjs25"
      },
      "outputs": [],
      "source": [
        "vantage_api_keys = vantage_instance.get_vantage_api_keys()\n",
        "vantage_api_keys"
      ]
    },
    {
      "cell_type": "code",
      "execution_count": 30,
      "metadata": {
        "id": "XIeWXDgqOiuq"
      },
      "outputs": [],
      "source": [
        "VANTAGE_API_KEY = \"YOUR_VANTAGE_API_KEY\""
      ]
    },
    {
      "cell_type": "code",
      "execution_count": 34,
      "metadata": {
        "id": "pd1N87DmKC_D"
      },
      "outputs": [],
      "source": [
        "# result = vantage_instance.semantic_search(\n",
        "#     text = \"glass coffee table\",\n",
        "#     collection_id = COLLECTION_ID,\n",
        "#     vantage_api_key = VANTAGE_API_KEY\n",
        "# )"
      ]
    },
    {
      "cell_type": "markdown",
      "source": [
        "[In progress]"
      ],
      "metadata": {
        "id": "hVIs5mQ90pKI"
      }
    }
  ],
  "metadata": {
    "colab": {
      "provenance": [],
      "toc_visible": true
    },
    "kernelspec": {
      "display_name": "Python 3",
      "name": "python3"
    },
    "language_info": {
      "name": "python"
    }
  },
  "nbformat": 4,
  "nbformat_minor": 0
}
