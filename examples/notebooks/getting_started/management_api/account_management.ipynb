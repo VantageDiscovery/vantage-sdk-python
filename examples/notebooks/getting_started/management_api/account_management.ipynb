{
  "cells": [
    {
      "cell_type": "markdown",
      "metadata": {
        "id": "-t91wzcKTcOg"
      },
      "source": [
        "# Getting Started with Vantage: Account Management\n",
        "\n",
        "Welcome to the Account Management part of our [Getting Started with Vantage](https://github.com/VantageDiscovery/vantage-sdk-python/tree/docs/getting-started-guide/examples/notebooks/getting_started) series.\n",
        "\n",
        "This notebook will demonstrate the account management capabilities provided by the Vantage SDK and guide you on how to use them effectively.\n",
        "\n",
        "Let's start!\n",
        "\n",
        "[![Open In Colab](https://colab.research.google.com/assets/colab-badge.svg)]()"
      ]
    },
    {
      "cell_type": "markdown",
      "metadata": {
        "id": "foVDygU5Wwl6"
      },
      "source": [
        "### ✅ Installation\n",
        "\n",
        "The first step involves installing the package. Before that, let's make sure we have all necessary dependencies installed as well."
      ]
    },
    {
      "cell_type": "code",
      "source": [
        "pip install pydantic==2.6.1 urllib3==2.0.7"
      ],
      "metadata": {
        "colab": {
          "base_uri": "https://localhost:8080/"
        },
        "id": "63Hci2mgMzGv",
        "outputId": "a5591588-39f6-4a0f-cbb4-1cce81930d81"
      },
      "execution_count": 1,
      "outputs": [
        {
          "output_type": "stream",
          "name": "stdout",
          "text": [
            "Requirement already satisfied: pydantic==2.6.1 in /usr/local/lib/python3.10/dist-packages (2.6.1)\n",
            "Requirement already satisfied: urllib3==2.0.7 in /usr/local/lib/python3.10/dist-packages (2.0.7)\n",
            "Requirement already satisfied: annotated-types>=0.4.0 in /usr/local/lib/python3.10/dist-packages (from pydantic==2.6.1) (0.6.0)\n",
            "Requirement already satisfied: pydantic-core==2.16.2 in /usr/local/lib/python3.10/dist-packages (from pydantic==2.6.1) (2.16.2)\n",
            "Requirement already satisfied: typing-extensions>=4.6.1 in /usr/local/lib/python3.10/dist-packages (from pydantic==2.6.1) (4.9.0)\n"
          ]
        }
      ]
    },
    {
      "cell_type": "markdown",
      "source": [
        "Execute the command below to install [Vantage](https://test.pypi.org/project/vantage-sdk/):\n",
        "\n",
        "> ❗ *Currently, we are using Test PyPi, but we are planning transition to the official PyPi index soon*"
      ],
      "metadata": {
        "id": "DmJrNLLwMzUR"
      }
    },
    {
      "cell_type": "code",
      "execution_count": 2,
      "metadata": {
        "id": "wni6cAVnSa7T",
        "colab": {
          "base_uri": "https://localhost:8080/"
        },
        "outputId": "54ea74a3-1dd8-49b5-df5d-e1dd1bdd7177"
      },
      "outputs": [
        {
          "output_type": "stream",
          "name": "stdout",
          "text": [
            "Looking in indexes: https://test.pypi.org/simple/\n",
            "Collecting vantage-sdk==0.0.5\n",
            "  Downloading https://test-files.pythonhosted.org/packages/ee/b7/316a716a9e0a6bf466fbec05d4ddb7fd82b4da29153d20e62518abce7a76/vantage_sdk-0.0.5-py3-none-any.whl (100 kB)\n",
            "\u001b[2K     \u001b[90m━━━━━━━━━━━━━━━━━━━━━━━━━━━━━━━━━━━━━━━━\u001b[0m \u001b[32m100.5/100.5 kB\u001b[0m \u001b[31m2.5 MB/s\u001b[0m eta \u001b[36m0:00:00\u001b[0m\n",
            "\u001b[?25hRequirement already satisfied: pydantic>=2 in /usr/local/lib/python3.10/dist-packages (from vantage-sdk==0.0.5) (2.6.1)\n",
            "Requirement already satisfied: python-dateutil<3,>=2 in /usr/local/lib/python3.10/dist-packages (from vantage-sdk==0.0.5) (2.8.2)\n",
            "Requirement already satisfied: requests<3,>=2 in /usr/local/lib/python3.10/dist-packages (from vantage-sdk==0.0.5) (2.31.0)\n",
            "Requirement already satisfied: urllib3<3,>=2 in /usr/local/lib/python3.10/dist-packages (from vantage-sdk==0.0.5) (2.0.7)\n",
            "Requirement already satisfied: annotated-types>=0.4.0 in /usr/local/lib/python3.10/dist-packages (from pydantic>=2->vantage-sdk==0.0.5) (0.6.0)\n",
            "Requirement already satisfied: pydantic-core==2.16.2 in /usr/local/lib/python3.10/dist-packages (from pydantic>=2->vantage-sdk==0.0.5) (2.16.2)\n",
            "Requirement already satisfied: typing-extensions>=4.6.1 in /usr/local/lib/python3.10/dist-packages (from pydantic>=2->vantage-sdk==0.0.5) (4.9.0)\n",
            "Requirement already satisfied: six>=1.5 in /usr/local/lib/python3.10/dist-packages (from python-dateutil<3,>=2->vantage-sdk==0.0.5) (1.16.0)\n",
            "Requirement already satisfied: charset-normalizer<4,>=2 in /usr/local/lib/python3.10/dist-packages (from requests<3,>=2->vantage-sdk==0.0.5) (3.3.2)\n",
            "Requirement already satisfied: idna<4,>=2.5 in /usr/local/lib/python3.10/dist-packages (from requests<3,>=2->vantage-sdk==0.0.5) (3.6)\n",
            "Requirement already satisfied: certifi>=2017.4.17 in /usr/local/lib/python3.10/dist-packages (from requests<3,>=2->vantage-sdk==0.0.5) (2024.2.2)\n",
            "Installing collected packages: vantage-sdk\n",
            "  Attempting uninstall: vantage-sdk\n",
            "    Found existing installation: vantage-sdk 0.0.4\n",
            "    Uninstalling vantage-sdk-0.0.4:\n",
            "      Successfully uninstalled vantage-sdk-0.0.4\n",
            "Successfully installed vantage-sdk-0.0.5\n"
          ]
        }
      ],
      "source": [
        "pip install -i https://test.pypi.org/simple/ vantage-sdk==0.0.5"
      ]
    },
    {
      "cell_type": "markdown",
      "metadata": {
        "id": "lj8iUMRXbjp1"
      },
      "source": [
        "As usual, let's import the necessary libraries for this example:"
      ]
    },
    {
      "cell_type": "code",
      "execution_count": 3,
      "metadata": {
        "id": "eInGZ4GRaV2U"
      },
      "outputs": [],
      "source": [
        "import os"
      ]
    },
    {
      "cell_type": "markdown",
      "metadata": {
        "id": "8kSM3HYEhIbT"
      },
      "source": [
        "### ✅ Initialization\n",
        "\n",
        "In this example, we will authenticate using a JWT token.\n",
        "For additional details on initializing the Vantage client, refer to the [notebook](../initializing_the_client.ipynb) that covers this topic first.\n",
        "\n",
        "Please update the following two cells with the appropriate values."
      ]
    },
    {
      "cell_type": "code",
      "execution_count": 4,
      "metadata": {
        "id": "7WVN9gJshIbT"
      },
      "outputs": [],
      "source": [
        "ACCOUNT_ID = \"YOUR_ACCOUNT_ID\"\n",
        "API_HOST = \"https://api.dev-a.dev.vantagediscovery.com\""
      ]
    },
    {
      "cell_type": "code",
      "execution_count": null,
      "metadata": {
        "id": "3xjrA9SMhIbT"
      },
      "outputs": [],
      "source": [
        "%env VANTAGE_JWT_TOKEN=YOUR_VANTAGE_JWT_TOKEN"
      ]
    },
    {
      "cell_type": "code",
      "execution_count": 6,
      "metadata": {
        "id": "pYSR6mabhIbT"
      },
      "outputs": [],
      "source": [
        "from vantage import Vantage\n",
        "\n",
        "vantage_instance = Vantage.using_jwt_token(\n",
        "    vantage_api_jwt_token=os.environ[\"VANTAGE_JWT_TOKEN\"],\n",
        "    account_id=ACCOUNT_ID,\n",
        "    api_host=API_HOST,\n",
        ")"
      ]
    },
    {
      "cell_type": "markdown",
      "metadata": {
        "id": "OqPe7i92hR2j"
      },
      "source": [
        "## ✅ Account Management\n",
        "\n",
        "The Account Management API enables the display of your account details and the updating of its information.\n",
        "\n",
        "In the following cells, you will find more details on both of these functionalities."
      ]
    },
    {
      "cell_type": "markdown",
      "metadata": {
        "id": "0yMV2Fr1sEbT"
      },
      "source": [
        "#### Get Account Details\n",
        "\n",
        "- Easily access your account details by calling `get_account` method."
      ]
    },
    {
      "cell_type": "code",
      "execution_count": 7,
      "metadata": {
        "id": "PFdfptAdhWtO",
        "colab": {
          "base_uri": "https://localhost:8080/"
        },
        "outputId": "23ff662a-defe-4d07-963b-42985c22bf95"
      },
      "outputs": [
        {
          "output_type": "execute_result",
          "data": {
            "text/plain": [
              "Account(account_id='jelena1', account_name='jelena')"
            ]
          },
          "metadata": {},
          "execution_count": 7
        }
      ],
      "source": [
        "account = vantage_instance.get_account()\n",
        "account"
      ]
    },
    {
      "cell_type": "markdown",
      "metadata": {
        "id": "AR4Pmc9_sOWt"
      },
      "source": [
        "#### Update Account Details\n",
        "\n",
        "- Easily update your account details by calling `update_account` along with the specific fields you wish to update.\n",
        "  - Currently, it is possible to change the `account_name`."
      ]
    },
    {
      "cell_type": "code",
      "execution_count": 8,
      "metadata": {
        "id": "MxAHHjFKh4JJ",
        "colab": {
          "base_uri": "https://localhost:8080/"
        },
        "outputId": "a5d34c0b-3d9c-4ab1-c00a-35010b6e26ff"
      },
      "outputs": [
        {
          "output_type": "execute_result",
          "data": {
            "text/plain": [
              "Account(account_id='jelena1', account_name='new_name')"
            ]
          },
          "metadata": {},
          "execution_count": 8
        }
      ],
      "source": [
        "new_account_name = \"new_name\"\n",
        "\n",
        "updated_account = vantage_instance.update_account(\n",
        "    account_name = new_account_name\n",
        ")\n",
        "updated_account"
      ]
    },
    {
      "cell_type": "markdown",
      "metadata": {
        "id": "QTCr5LcQW1rs"
      },
      "source": [
        "## 📌 Next Steps\n",
        "\n",
        "You are now familiar with the Account Management endpoints! You can take a look at other notebooks from our [Getting Started with Vantage](https://github.com/VantageDiscovery/vantage-sdk-python/tree/develop/examples/notebooks/getting_started) series or continue using Vantage on your own.\n",
        "\n",
        "If you need some ideas, check our [Use Cases](https://github.com/VantageDiscovery/vantage-sdk-python/tree/develop/examples/notebooks/use_cases) notebooks, where you can find inspiration and best practices for using Vantage.\n",
        "\n",
        "Happy discovering! 🔎\n"
      ]
    }
  ],
  "metadata": {
    "colab": {
      "provenance": [],
      "toc_visible": true
    },
    "kernelspec": {
      "display_name": "Python 3",
      "name": "python3"
    },
    "language_info": {
      "codemirror_mode": {
        "name": "ipython",
        "version": 3
      },
      "file_extension": ".py",
      "mimetype": "text/x-python",
      "name": "python",
      "nbconvert_exporter": "python",
      "pygments_lexer": "ipython3",
      "version": "3.10.13"
    }
  },
  "nbformat": 4,
  "nbformat_minor": 0
}