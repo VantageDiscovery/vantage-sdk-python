{
  "cells": [
    {
      "cell_type": "markdown",
      "metadata": {
        "id": "-t91wzcKTcOg"
      },
      "source": [
        "# Getting Started with Vantage: Documents Upload\n",
        "\n",
        "Welcome to the Documents Upload part of our [Getting Started with Vantage](https://github.com/VantageDiscovery/vantage-sdk-python/tree/docs/getting-started-guide/examples/notebooks/getting_started) series.\n",
        "\n",
        "This notebook will demonstrate the documents upload capabilities provided by the Vantage SDK and guide you on how to use them effectively."
      ]
    },
    {
      "cell_type": "markdown",
      "metadata": {
        "id": "foVDygU5Wwl6"
      },
      "source": [
        "### Installation\n",
        "\n",
        "The first step involves installing the package. Execute the command below to install [Vantage](https://test.pypi.org/project/vantage-sdk/):\n",
        "\n",
        "*Note: Currently, we are using Test PyPi, but we are planning transition to the official PyPi index soon*"
      ]
    },
    {
      "cell_type": "code",
      "execution_count": null,
      "metadata": {
        "id": "wni6cAVnSa7T"
      },
      "outputs": [],
      "source": [
        "pip install -i https://test.pypi.org/simple/ vantage-sdk==0.0.1"
      ]
    },
    {
      "cell_type": "markdown",
      "metadata": {
        "id": "lj8iUMRXbjp1"
      },
      "source": [
        "As usual, let's import the necessary libraries for this example:"
      ]
    },
    {
      "cell_type": "code",
      "execution_count": null,
      "metadata": {
        "id": "eInGZ4GRaV2U"
      },
      "outputs": [],
      "source": [
        "import os"
      ]
    },
    {
      "cell_type": "markdown",
      "metadata": {},
      "source": [
        "### Initialization\n",
        "\n",
        "In this example, we will authenticate using a JWT token. \n",
        "For additional details on initializing the Vantage client, refer to the [notebook](../initializing_the_client.ipynb) that covers this topic first.\n",
        "\n",
        "Please update the following two cells with the appropriate values."
      ]
    },
    {
      "cell_type": "code",
      "execution_count": null,
      "metadata": {},
      "outputs": [],
      "source": [
        "ACCOUNT_ID = \"YOUR_ACCOUNT_ID\"\n",
        "API_HOST = \"API_HOST\"\n",
        "AUTH_HOST = \"AUTH_HOST\""
      ]
    },
    {
      "cell_type": "code",
      "execution_count": null,
      "metadata": {},
      "outputs": [],
      "source": [
        "%env VANTAGE_JWT_TOKEN=YOUR_VANTAGE_JWT_TOKEN"
      ]
    },
    {
      "cell_type": "code",
      "execution_count": null,
      "metadata": {},
      "outputs": [],
      "source": [
        "from vantage import Vantage\n",
        "\n",
        "vantage_instance = Vantage.using_jwt_token(\n",
        "    vantage_api_jwt_token=os.environ[\"VANTAGE_JWT_TOKEN\"],\n",
        "    account_id=ACCOUNT_ID,\n",
        "    api_host=API_HOST,\n",
        ")"
      ]
    },
    {
      "cell_type": "markdown",
      "metadata": {
        "id": "QTCr5LcQW1rs"
      },
      "source": [
        "## 📌 Next Steps\n",
        "Congratulations! You've successfully initialized the Vantage client in your Python environment. You're now ready to explore the features and capabilities of the Vantage SDK. Check the next guide in our [Getting Started with Vantage](https://github.com/VantageDiscovery/vantage-sdk-python/tree/docs/getting-started-guide/examples/notebooks/getting_started) series, where we'll delve into making your first API call using Vantage.\n",
        "\n",
        "\n",
        "Happy discovering! 🔎\n"
      ]
    }
  ],
  "metadata": {
    "colab": {
      "provenance": []
    },
    "kernelspec": {
      "display_name": "Python 3",
      "name": "python3"
    },
    "language_info": {
      "name": "python"
    }
  },
  "nbformat": 4,
  "nbformat_minor": 0
}
