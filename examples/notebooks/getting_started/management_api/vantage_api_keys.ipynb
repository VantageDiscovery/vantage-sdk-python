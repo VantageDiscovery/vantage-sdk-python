{
  "cells": [
    {
      "cell_type": "markdown",
      "metadata": {
        "id": "-t91wzcKTcOg"
      },
      "source": [
        "# Getting Started with Vantage: Vantage API Keys\n",
        "\n",
        "Welcome to the Vantage API Keys part of our [Getting Started with Vantage](https://github.com/VantageDiscovery/vantage-sdk-python/tree/docs/getting-started-guide/examples/notebooks/getting_started) series.\n",
        "\n",
        "Vantage API Keys are used during collection querying. For a detailed guide on their application, refer to the notebooks in the [Search](https://github.com/VantageDiscovery/vantage-sdk-python/tree/develop/examples/notebooks/getting_started/search_api) section.\n",
        "\n",
        "This notebook will demonstrate the Vantage API keys endpoints provided by the Vantage SDK and guide you on how to use them effectively.\n",
        "\n",
        "Let's start!\n",
        "\n",
        "[![Open In Colab](https://colab.research.google.com/assets/colab-badge.svg)]()"
      ]
    },
    {
      "cell_type": "markdown",
      "metadata": {
        "id": "r6102yX4PQPv"
      },
      "source": [
        "### ✅ Installation\n",
        "\n",
        "The first step involves installing the package. Before that, let's make sure we have all necessary dependencies installed as well."
      ]
    },
    {
      "cell_type": "code",
      "execution_count": 1,
      "metadata": {
        "colab": {
          "base_uri": "https://localhost:8080/"
        },
        "id": "63Hci2mgMzGv",
        "outputId": "765c249f-a85f-444d-d32c-8938f6a68323"
      },
      "outputs": [
        {
          "name": "stdout",
          "output_type": "stream",
          "text": [
            "Requirement already satisfied: pydantic==2.6.1 in /usr/local/lib/python3.10/dist-packages (2.6.1)\n",
            "Requirement already satisfied: urllib3==2.0.7 in /usr/local/lib/python3.10/dist-packages (2.0.7)\n",
            "Requirement already satisfied: annotated-types>=0.4.0 in /usr/local/lib/python3.10/dist-packages (from pydantic==2.6.1) (0.6.0)\n",
            "Requirement already satisfied: pydantic-core==2.16.2 in /usr/local/lib/python3.10/dist-packages (from pydantic==2.6.1) (2.16.2)\n",
            "Requirement already satisfied: typing-extensions>=4.6.1 in /usr/local/lib/python3.10/dist-packages (from pydantic==2.6.1) (4.9.0)\n"
          ]
        }
      ],
      "source": [
        "pip install pydantic==2.6.1 urllib3==2.0.7"
      ]
    },
    {
      "cell_type": "markdown",
      "metadata": {
        "id": "DmJrNLLwMzUR"
      },
      "source": [
        "Execute the command below to install [Vantage](https://test.pypi.org/project/vantage-sdk/):\n",
        "\n",
        "> ❗ *Currently, we are using Test PyPi, but we are planning transition to the official PyPi index soon*"
      ]
    },
    {
      "cell_type": "code",
      "execution_count": 2,
      "metadata": {
        "colab": {
          "base_uri": "https://localhost:8080/"
        },
        "id": "aMKyZdB5PQPx",
        "outputId": "97fbe4fd-00c9-4cdd-8ed4-c40982eb406c"
      },
      "outputs": [
        {
          "name": "stdout",
          "output_type": "stream",
          "text": [
            "Looking in indexes: https://test.pypi.org/simple/\n",
            "Collecting vantage-sdk==0.0.5\n",
            "  Downloading https://test-files.pythonhosted.org/packages/ee/b7/316a716a9e0a6bf466fbec05d4ddb7fd82b4da29153d20e62518abce7a76/vantage_sdk-0.0.5-py3-none-any.whl (100 kB)\n",
            "\u001b[2K     \u001b[90m━━━━━━━━━━━━━━━━━━━━━━━━━━━━━━━━━━━━━━━━\u001b[0m \u001b[32m100.5/100.5 kB\u001b[0m \u001b[31m1.5 MB/s\u001b[0m eta \u001b[36m0:00:00\u001b[0m\n",
            "\u001b[?25hRequirement already satisfied: pydantic>=2 in /usr/local/lib/python3.10/dist-packages (from vantage-sdk==0.0.5) (2.6.1)\n",
            "Requirement already satisfied: python-dateutil<3,>=2 in /usr/local/lib/python3.10/dist-packages (from vantage-sdk==0.0.5) (2.8.2)\n",
            "Requirement already satisfied: requests<3,>=2 in /usr/local/lib/python3.10/dist-packages (from vantage-sdk==0.0.5) (2.31.0)\n",
            "Requirement already satisfied: urllib3<3,>=2 in /usr/local/lib/python3.10/dist-packages (from vantage-sdk==0.0.5) (2.0.7)\n",
            "Requirement already satisfied: annotated-types>=0.4.0 in /usr/local/lib/python3.10/dist-packages (from pydantic>=2->vantage-sdk==0.0.5) (0.6.0)\n",
            "Requirement already satisfied: pydantic-core==2.16.2 in /usr/local/lib/python3.10/dist-packages (from pydantic>=2->vantage-sdk==0.0.5) (2.16.2)\n",
            "Requirement already satisfied: typing-extensions>=4.6.1 in /usr/local/lib/python3.10/dist-packages (from pydantic>=2->vantage-sdk==0.0.5) (4.9.0)\n",
            "Requirement already satisfied: six>=1.5 in /usr/local/lib/python3.10/dist-packages (from python-dateutil<3,>=2->vantage-sdk==0.0.5) (1.16.0)\n",
            "Requirement already satisfied: charset-normalizer<4,>=2 in /usr/local/lib/python3.10/dist-packages (from requests<3,>=2->vantage-sdk==0.0.5) (3.3.2)\n",
            "Requirement already satisfied: idna<4,>=2.5 in /usr/local/lib/python3.10/dist-packages (from requests<3,>=2->vantage-sdk==0.0.5) (3.6)\n",
            "Requirement already satisfied: certifi>=2017.4.17 in /usr/local/lib/python3.10/dist-packages (from requests<3,>=2->vantage-sdk==0.0.5) (2024.2.2)\n",
            "Installing collected packages: vantage-sdk\n",
            "Successfully installed vantage-sdk-0.0.5\n"
          ]
        }
      ],
      "source": [
        "pip install -i https://test.pypi.org/simple/ vantage-sdk==0.0.6"
      ]
    },
    {
      "cell_type": "markdown",
      "metadata": {
        "id": "UWmM7UbUPQPx"
      },
      "source": [
        "As usual, let's import the necessary libraries for this example:"
      ]
    },
    {
      "cell_type": "code",
      "execution_count": 3,
      "metadata": {
        "id": "trASRhK-PQPx"
      },
      "outputs": [],
      "source": [
        "import os"
      ]
    },
    {
      "cell_type": "markdown",
      "metadata": {
        "id": "xAWhmO408f9G"
      },
      "source": [
        "### ✅ Initialization\n",
        "\n",
        "In this example, we will authenticate using a JWT token.\n",
        "For additional details on initializing the Vantage client, refer to the [notebook](../initializing_the_client.ipynb) that covers this topic first.\n",
        "\n",
        "Please update the following two cells with the appropriate values."
      ]
    },
    {
      "cell_type": "code",
      "execution_count": 4,
      "metadata": {
        "id": "eU6VPxJ38f9G"
      },
      "outputs": [],
      "source": [
        "ACCOUNT_ID = \"YOUR_ACCOUNT_ID\"\n",
        "API_HOST = \"https://api.dev-a.dev.vantagediscovery.com\""
      ]
    },
    {
      "cell_type": "code",
      "execution_count": null,
      "metadata": {
        "id": "3oby7ILA8f9G"
      },
      "outputs": [],
      "source": [
        "%env VANTAGE_JWT_TOKEN=YOUR_VANTAGE_JWT_TOKEN"
      ]
    },
    {
      "cell_type": "code",
      "execution_count": 6,
      "metadata": {
        "id": "Kj90qFwV8f9G"
      },
      "outputs": [],
      "source": [
        "from vantage import VantageClient\n",
        "\n",
        "vantage_instance = VantageClient.using_jwt_token(\n",
        "    vantage_api_jwt_token=os.environ[\"VANTAGE_JWT_TOKEN\"],\n",
        "    account_id=ACCOUNT_ID,\n",
        "    api_host=API_HOST,\n",
        ")"
      ]
    },
    {
      "cell_type": "markdown",
      "metadata": {
        "id": "g7wt9P3I8f9G"
      },
      "source": [
        "### ✅ Vantage API Keys\n",
        "\n",
        "The Vantage API Keys API enables the listing of your Vantage API keys."
      ]
    },
    {
      "cell_type": "markdown",
      "metadata": {
        "id": "GRMIuHb38f9H"
      },
      "source": [
        "#### Get All Vantage Keys\n",
        "\n",
        "- Easily access all your Vantage API keys by calling `get_vantage_api_keys` method."
      ]
    },
    {
      "cell_type": "code",
      "execution_count": 7,
      "metadata": {
        "colab": {
          "base_uri": "https://localhost:8080/"
        },
        "id": "OBhsP7kp8f9H",
        "outputId": "e26fbb21-d9e8-42ad-bd1c-a05e675d2a40"
      },
      "outputs": [
        {
          "data": {
            "text/plain": [
              "[VantageAPIKey(vantage_api_key_id='9bf35469-53f1-4c7e-ae1e-c74b9c2a89fd', account_id='jelena1', vantage_api_key_created_date='2024-01-16T09:07:59', vantage_api_key_value=None)]"
            ]
          },
          "execution_count": 7,
          "metadata": {},
          "output_type": "execute_result"
        }
      ],
      "source": [
        "vantage_keys = vantage_instance.get_vantage_api_keys()\n",
        "vantage_keys"
      ]
    },
    {
      "cell_type": "markdown",
      "metadata": {
        "id": "wjvV46sx8f9H"
      },
      "source": [
        "#### Get One Vantage Key\n",
        "\n",
        "- Easily access your vantage API key by providing its `vantage_api_key_id`."
      ]
    },
    {
      "cell_type": "code",
      "execution_count": 8,
      "metadata": {
        "colab": {
          "base_uri": "https://localhost:8080/"
        },
        "id": "vqqtfPnA8f9H",
        "outputId": "9c3efcb3-f8e1-488d-dd15-6c974c1b3cac"
      },
      "outputs": [
        {
          "data": {
            "text/plain": [
              "VantageAPIKey(vantage_api_key_id='9bf35469-53f1-4c7e-ae1e-c74b9c2a89fd', account_id='jelena1', vantage_api_key_created_date='2024-01-16T09:07:59', vantage_api_key_value=None)"
            ]
          },
          "execution_count": 8,
          "metadata": {},
          "output_type": "execute_result"
        }
      ],
      "source": [
        "vantage_api_key_id = \"9bf35469-53f1-4c7e-ae1e-c74b9c2a89fd\"\n",
        "\n",
        "vantage_key = vantage_instance.get_vantage_api_key(\n",
        "    vantage_api_key_id = vantage_api_key_id\n",
        ")\n",
        "\n",
        "vantage_key"
      ]
    },
    {
      "cell_type": "markdown",
      "metadata": {
        "id": "QTCr5LcQW1rs"
      },
      "source": [
        "## 📌 Next Steps\n",
        "\n",
        "You are now familiar with the Vantage API Keys endpoints! You can take a look at other notebooks from our [Getting Started with Vantage](https://github.com/VantageDiscovery/vantage-sdk-python/tree/develop/examples/notebooks/getting_started) series or continue using Vantage on your own.\n",
        "\n",
        "If you need some ideas, check our [Use Cases](https://github.com/VantageDiscovery/vantage-sdk-python/tree/develop/examples/notebooks/use_cases) notebooks, where you can find inspiration and best practices for using Vantage.\n",
        "\n",
        "Happy discovering! 🔎\n"
      ]
    }
  ],
  "metadata": {
    "colab": {
      "provenance": [],
      "toc_visible": true
    },
    "kernelspec": {
      "display_name": "Python 3",
      "name": "python3"
    },
    "language_info": {
      "name": "python"
    }
  },
  "nbformat": 4,
  "nbformat_minor": 0
}
