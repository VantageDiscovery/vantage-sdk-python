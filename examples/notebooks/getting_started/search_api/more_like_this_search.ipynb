{
  "cells": [
    {
      "cell_type": "markdown",
      "metadata": {
        "id": "-t91wzcKTcOg"
      },
      "source": [
        "# Getting Started with Vantage: More Like This Search\n",
        "\n",
        "Welcome to the More Like This Search part of our [Getting Started with Vantage](https://github.com/VantageDiscovery/vantage-sdk-python/tree/docs/getting-started-guide/examples/notebooks/getting_started) series.\n",
        "\n",
        "This notebook will demonstrate the \"more like this\" search capabilities provided by the Vantage SDK and guide you on how to use them effectively.\n",
        "\n",
        "[![Open In Colab](https://colab.research.google.com/assets/colab-badge.svg)]()"
      ]
    },
    {
      "cell_type": "markdown",
      "metadata": {
        "id": "YGl9eXQfWkih"
      },
      "source": [
        "### ✅ Installation\n",
        "\n",
        "The first step involves installing the package. Before that, let's make sure we have all necessary dependencies installed as well."
      ]
    },
    {
      "cell_type": "code",
      "execution_count": null,
      "metadata": {
        "colab": {
          "base_uri": "https://localhost:8080/"
        },
        "id": "63Hci2mgMzGv",
        "outputId": "b553a94f-1afe-4396-f743-9c96e8609931"
      },
      "outputs": [
        {
          "name": "stdout",
          "output_type": "stream",
          "text": [
            "Requirement already satisfied: pydantic==2.6.1 in /usr/local/lib/python3.10/dist-packages (2.6.1)\n",
            "Requirement already satisfied: urllib3==2.0.7 in /usr/local/lib/python3.10/dist-packages (2.0.7)\n",
            "Requirement already satisfied: annotated-types>=0.4.0 in /usr/local/lib/python3.10/dist-packages (from pydantic==2.6.1) (0.6.0)\n",
            "Requirement already satisfied: pydantic-core==2.16.2 in /usr/local/lib/python3.10/dist-packages (from pydantic==2.6.1) (2.16.2)\n",
            "Requirement already satisfied: typing-extensions>=4.6.1 in /usr/local/lib/python3.10/dist-packages (from pydantic==2.6.1) (4.9.0)\n"
          ]
        }
      ],
      "source": [
        "pip install pydantic==2.6.1 urllib3==2.0.7"
      ]
    },
    {
      "cell_type": "markdown",
      "metadata": {
        "id": "DmJrNLLwMzUR"
      },
      "source": [
        "Execute the command below to install [Vantage](https://test.pypi.org/project/vantage-sdk/):\n",
        "\n",
        "> ❗ *Currently, we are using Test PyPi, but we are planning transition to the official PyPi index soon*"
      ]
    },
    {
      "cell_type": "code",
      "execution_count": null,
      "metadata": {
        "colab": {
          "base_uri": "https://localhost:8080/"
        },
        "id": "A16pBFAwWkit",
        "outputId": "13a5fd71-5527-454a-aded-ad79bc8c4842"
      },
      "outputs": [
        {
          "name": "stdout",
          "output_type": "stream",
          "text": [
            "Looking in indexes: https://test.pypi.org/simple/\n",
            "Collecting vantage-sdk==0.0.5\n",
            "  Downloading https://test-files.pythonhosted.org/packages/ee/b7/316a716a9e0a6bf466fbec05d4ddb7fd82b4da29153d20e62518abce7a76/vantage_sdk-0.0.5-py3-none-any.whl (100 kB)\n",
            "\u001b[2K     \u001b[90m━━━━━━━━━━━━━━━━━━━━━━━━━━━━━━━━━━━━━━━━\u001b[0m \u001b[32m100.5/100.5 kB\u001b[0m \u001b[31m2.7 MB/s\u001b[0m eta \u001b[36m0:00:00\u001b[0m\n",
            "\u001b[?25hRequirement already satisfied: pydantic>=2 in /usr/local/lib/python3.10/dist-packages (from vantage-sdk==0.0.5) (2.6.1)\n",
            "Requirement already satisfied: python-dateutil<3,>=2 in /usr/local/lib/python3.10/dist-packages (from vantage-sdk==0.0.5) (2.8.2)\n",
            "Requirement already satisfied: requests<3,>=2 in /usr/local/lib/python3.10/dist-packages (from vantage-sdk==0.0.5) (2.31.0)\n",
            "Requirement already satisfied: urllib3<3,>=2 in /usr/local/lib/python3.10/dist-packages (from vantage-sdk==0.0.5) (2.0.7)\n",
            "Requirement already satisfied: annotated-types>=0.4.0 in /usr/local/lib/python3.10/dist-packages (from pydantic>=2->vantage-sdk==0.0.5) (0.6.0)\n",
            "Requirement already satisfied: pydantic-core==2.16.2 in /usr/local/lib/python3.10/dist-packages (from pydantic>=2->vantage-sdk==0.0.5) (2.16.2)\n",
            "Requirement already satisfied: typing-extensions>=4.6.1 in /usr/local/lib/python3.10/dist-packages (from pydantic>=2->vantage-sdk==0.0.5) (4.9.0)\n",
            "Requirement already satisfied: six>=1.5 in /usr/local/lib/python3.10/dist-packages (from python-dateutil<3,>=2->vantage-sdk==0.0.5) (1.16.0)\n",
            "Requirement already satisfied: charset-normalizer<4,>=2 in /usr/local/lib/python3.10/dist-packages (from requests<3,>=2->vantage-sdk==0.0.5) (3.3.2)\n",
            "Requirement already satisfied: idna<4,>=2.5 in /usr/local/lib/python3.10/dist-packages (from requests<3,>=2->vantage-sdk==0.0.5) (3.6)\n",
            "Requirement already satisfied: certifi>=2017.4.17 in /usr/local/lib/python3.10/dist-packages (from requests<3,>=2->vantage-sdk==0.0.5) (2024.2.2)\n",
            "Installing collected packages: vantage-sdk\n",
            "Successfully installed vantage-sdk-0.0.5\n"
          ]
        }
      ],
      "source": [
        "pip install -i https://test.pypi.org/simple/ vantage-sdk==0.0.5"
      ]
    },
    {
      "cell_type": "markdown",
      "metadata": {
        "id": "6BA15vCQWkit"
      },
      "source": [
        "As usual, let's import the necessary libraries for this example:"
      ]
    },
    {
      "cell_type": "code",
      "execution_count": null,
      "metadata": {
        "id": "qrQTj7qhWkit"
      },
      "outputs": [],
      "source": [
        "import os"
      ]
    },
    {
      "cell_type": "markdown",
      "metadata": {
        "id": "dkq4A58h8uMW"
      },
      "source": [
        "### ✅ Initialization\n",
        "\n",
        "In this example, we will authenticate using a JWT token.\n",
        "For additional details on initializing the Vantage client, refer to the [notebook](../initializing_the_client.ipynb) that covers this topic first.\n",
        "\n",
        "Please update the following two cells with the appropriate values."
      ]
    },
    {
      "cell_type": "code",
      "execution_count": null,
      "metadata": {
        "id": "F7gE945r8uMW"
      },
      "outputs": [],
      "source": [
        "ACCOUNT_ID = \"YOUR_ACCOUNT_ID\"\n",
        "API_HOST = \"https://api.dev-a.dev.vantagediscovery.com\""
      ]
    },
    {
      "cell_type": "code",
      "execution_count": null,
      "metadata": {
        "id": "o_0IY6Ps8uMX"
      },
      "outputs": [],
      "source": [
        "%env VANTAGE_JWT_TOKEN=YOUR_VANTAGE_JWT_TOKEN"
      ]
    },
    {
      "cell_type": "code",
      "execution_count": null,
      "metadata": {
        "id": "mBcDgiku8uMX"
      },
      "outputs": [],
      "source": [
        "from vantage import Vantage\n",
        "\n",
        "vantage_instance = Vantage.using_jwt_token(\n",
        "    vantage_api_jwt_token=os.environ[\"VANTAGE_JWT_TOKEN\"],\n",
        "    account_id=ACCOUNT_ID,\n",
        "    api_host=API_HOST,\n",
        ")"
      ]
    },
    {
      "cell_type": "markdown",
      "metadata": {
        "id": "_fMrQTRHW0OA"
      },
      "source": [
        "## ✅ More Like This Search\n",
        "\n",
        "[In progress]"
      ]
    },
    {
      "cell_type": "markdown",
      "metadata": {
        "id": "QTCr5LcQW1rs"
      },
      "source": [
        "## 📌 Next Steps\n",
        "\n",
        "You are now familiar with the More Like This Search with Vantage! You can take a look at other notebooks from our [Getting Started with Vantage](https://github.com/VantageDiscovery/vantage-sdk-python/tree/develop/examples/notebooks/getting_started) series or continue using Vantage on your own.\n",
        "\n",
        "If you need some ideas, check our [Use Cases](https://github.com/VantageDiscovery/vantage-sdk-python/tree/develop/examples/notebooks/use_cases) notebooks, where you can find inspiration and best practices for using Vantage.\n",
        "\n",
        "Happy discovering! 🔎\n"
      ]
    },
    {
      "cell_type": "code",
      "execution_count": null,
      "metadata": {
        "id": "2GDyeIusY9M7"
      },
      "outputs": [],
      "source": []
    }
  ],
  "metadata": {
    "colab": {
      "provenance": [],
      "toc_visible": true
    },
    "kernelspec": {
      "display_name": "Python 3",
      "name": "python3"
    },
    "language_info": {
      "name": "python"
    }
  },
  "nbformat": 4,
  "nbformat_minor": 0
}
