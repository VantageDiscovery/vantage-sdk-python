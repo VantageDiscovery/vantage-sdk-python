{
  "cells": [
    {
      "cell_type": "markdown",
      "metadata": {
        "id": "-t91wzcKTcOg"
      },
      "source": [
        "# Getting Started with Vantage: Initializing the Client\n",
        "\n",
        "Welcome to the first step of our [Getting Started with Vantage](https://github.com/VantageDiscovery/vantage-sdk-python/tree/docs/getting-started-guide/examples/notebooks/getting_started) series, where we embark on a journey to unlock the full potential of the Vantage Python SDK.\n",
        "\n",
        "In this example, we will guide you through the simple yet crucial process of setting up the Vantage client.\n",
        "\n",
        "[![Open In Colab](https://colab.research.google.com/assets/colab-badge.svg)]()"
      ]
    },
    {
      "cell_type": "markdown",
      "metadata": {
        "id": "Y8hgkbz1gLH4"
      },
      "source": [
        "### ✅ Installation\n",
        "\n",
        "The first step involves installing the package. Before that, let's make sure we have all necessary dependencies installed as well."
      ]
    },
    {
      "cell_type": "code",
      "execution_count": 1,
      "metadata": {
        "colab": {
          "base_uri": "https://localhost:8080/"
        },
        "id": "63Hci2mgMzGv",
        "outputId": "868e93d4-681e-454e-cb99-321425c50dce"
      },
      "outputs": [
        {
          "name": "stdout",
          "output_type": "stream",
          "text": [
            "Requirement already satisfied: pydantic==2.6.1 in /usr/local/lib/python3.10/dist-packages (2.6.1)\n",
            "Requirement already satisfied: urllib3==2.0.7 in /usr/local/lib/python3.10/dist-packages (2.0.7)\n",
            "Requirement already satisfied: annotated-types>=0.4.0 in /usr/local/lib/python3.10/dist-packages (from pydantic==2.6.1) (0.6.0)\n",
            "Requirement already satisfied: pydantic-core==2.16.2 in /usr/local/lib/python3.10/dist-packages (from pydantic==2.6.1) (2.16.2)\n",
            "Requirement already satisfied: typing-extensions>=4.6.1 in /usr/local/lib/python3.10/dist-packages (from pydantic==2.6.1) (4.9.0)\n"
          ]
        }
      ],
      "source": [
        "pip install pydantic==2.6.1 urllib3==2.0.7"
      ]
    },
    {
      "cell_type": "markdown",
      "metadata": {
        "id": "DmJrNLLwMzUR"
      },
      "source": [
        "Execute the command below to install [Vantage](https://test.pypi.org/project/vantage-sdk/):\n",
        "\n",
        "> ❗ *Currently, we are using Test PyPi, but we are planning transition to the official PyPi index soon*"
      ]
    },
    {
      "cell_type": "code",
      "execution_count": 2,
      "metadata": {
        "colab": {
          "base_uri": "https://localhost:8080/"
        },
        "id": "I7FFr1NNgLID",
        "outputId": "5150a9cc-d6ff-4f2f-9993-e347edff639c"
      },
      "outputs": [
        {
          "name": "stdout",
          "output_type": "stream",
          "text": [
            "Looking in indexes: https://test.pypi.org/simple/\n",
            "Collecting vantage-sdk==0.0.5\n",
            "  Downloading https://test-files.pythonhosted.org/packages/ee/b7/316a716a9e0a6bf466fbec05d4ddb7fd82b4da29153d20e62518abce7a76/vantage_sdk-0.0.5-py3-none-any.whl (100 kB)\n",
            "\u001b[2K     \u001b[90m━━━━━━━━━━━━━━━━━━━━━━━━━━━━━━━━━━━━━━━━\u001b[0m \u001b[32m100.5/100.5 kB\u001b[0m \u001b[31m3.2 MB/s\u001b[0m eta \u001b[36m0:00:00\u001b[0m\n",
            "\u001b[?25hRequirement already satisfied: pydantic>=2 in /usr/local/lib/python3.10/dist-packages (from vantage-sdk==0.0.5) (2.6.1)\n",
            "Requirement already satisfied: python-dateutil<3,>=2 in /usr/local/lib/python3.10/dist-packages (from vantage-sdk==0.0.5) (2.8.2)\n",
            "Requirement already satisfied: requests<3,>=2 in /usr/local/lib/python3.10/dist-packages (from vantage-sdk==0.0.5) (2.31.0)\n",
            "Requirement already satisfied: urllib3<3,>=2 in /usr/local/lib/python3.10/dist-packages (from vantage-sdk==0.0.5) (2.0.7)\n",
            "Requirement already satisfied: annotated-types>=0.4.0 in /usr/local/lib/python3.10/dist-packages (from pydantic>=2->vantage-sdk==0.0.5) (0.6.0)\n",
            "Requirement already satisfied: pydantic-core==2.16.2 in /usr/local/lib/python3.10/dist-packages (from pydantic>=2->vantage-sdk==0.0.5) (2.16.2)\n",
            "Requirement already satisfied: typing-extensions>=4.6.1 in /usr/local/lib/python3.10/dist-packages (from pydantic>=2->vantage-sdk==0.0.5) (4.9.0)\n",
            "Requirement already satisfied: six>=1.5 in /usr/local/lib/python3.10/dist-packages (from python-dateutil<3,>=2->vantage-sdk==0.0.5) (1.16.0)\n",
            "Requirement already satisfied: charset-normalizer<4,>=2 in /usr/local/lib/python3.10/dist-packages (from requests<3,>=2->vantage-sdk==0.0.5) (3.3.2)\n",
            "Requirement already satisfied: idna<4,>=2.5 in /usr/local/lib/python3.10/dist-packages (from requests<3,>=2->vantage-sdk==0.0.5) (3.6)\n",
            "Requirement already satisfied: certifi>=2017.4.17 in /usr/local/lib/python3.10/dist-packages (from requests<3,>=2->vantage-sdk==0.0.5) (2024.2.2)\n",
            "Installing collected packages: vantage-sdk\n",
            "Successfully installed vantage-sdk-0.0.5\n"
          ]
        }
      ],
      "source": [
        "pip install -i https://test.pypi.org/simple/ vantage-sdk==0.0.6"
      ]
    },
    {
      "cell_type": "markdown",
      "metadata": {
        "id": "D1zAhbo_gLIE"
      },
      "source": [
        "As usual, let's import the necessary libraries for this example:"
      ]
    },
    {
      "cell_type": "code",
      "execution_count": 3,
      "metadata": {
        "id": "3sEopB8vgLIE"
      },
      "outputs": [],
      "source": [
        "import os"
      ]
    },
    {
      "cell_type": "markdown",
      "metadata": {
        "id": "QTCr5LcQW1rs"
      },
      "source": [
        "## ✅ Initializing the Client\n",
        "\n",
        "Within the Vantage SDK, you have the flexibility to initialize the client using two authentication methods:\n",
        "- using a JWT token\n",
        "- using client credentials\n",
        "\n",
        "The following cells will demonstrate both methods.\n",
        "\n",
        "Initially, it's required to specify your Account ID, along with the API and AUTH host addresses, which will be configured in the following cell:"
      ]
    },
    {
      "cell_type": "code",
      "execution_count": 4,
      "metadata": {
        "id": "9AuDbBtKYy1g"
      },
      "outputs": [],
      "source": [
        "ACCOUNT_ID = \"YOUR_ACCOUNT_ID\"\n",
        "API_HOST = \"https://api.dev-a.dev.vantagediscovery.com\"\n",
        "AUTH_HOST = \"https://vantage-dev.us.auth0.com\""
      ]
    },
    {
      "cell_type": "markdown",
      "metadata": {
        "id": "m5EECvmIXvYe"
      },
      "source": [
        "<a id='jwt_token'></a>\n",
        "### Client Initialization: *Using JWT Token*\n",
        "\n",
        "In this approach, we're using a JWT token as the authentication method, which you'll need to provide in the cell below. We're assigning it to an `VANTAGE_JWT_TOKEN` environment variable — a step you can replicate in your local environment to seamlessly use the rest of the code as demonstrated in this example."
      ]
    },
    {
      "cell_type": "code",
      "execution_count": null,
      "metadata": {
        "id": "zaD15ONjajv6"
      },
      "outputs": [],
      "source": [
        "%env VANTAGE_JWT_TOKEN=YOUR_VANTAGE_JWT_TOKEN"
      ]
    },
    {
      "cell_type": "markdown",
      "metadata": {
        "id": "IcmACEfVdN3d"
      },
      "source": [
        "Now, you can use the `using_jwt_token` method to create a Vantage instance:"
      ]
    },
    {
      "cell_type": "code",
      "execution_count": 6,
      "metadata": {
        "id": "Om01-HipTTjj"
      },
      "outputs": [],
      "source": [
        "from vantage import VantageClient\n",
        "\n",
        "vantage_instance = VantageClient.using_jwt_token(\n",
        "    vantage_api_jwt_token=os.environ[\"VANTAGE_JWT_TOKEN\"],\n",
        "    account_id=ACCOUNT_ID,\n",
        "    api_host=API_HOST,\n",
        ")"
      ]
    },
    {
      "cell_type": "markdown",
      "metadata": {
        "id": "ZWepbKgdXwFA"
      },
      "source": [
        "<a id='client_credentials'></a>\n",
        "### Client Initialization: *Using Client Credentials*\n",
        "\n",
        "In this approach, we're using client credentials as the authentication method. Again, we're assigning them to two environment variables (`VANTAGE_CLIENT_ID` and `VANTAGE_CLIENT_SECRET`) — a step you can replicate in your local environment to seamlessly use the rest of the code as demonstrated in this example."
      ]
    },
    {
      "cell_type": "code",
      "execution_count": null,
      "metadata": {
        "id": "4kGdFJ6xbQ2M"
      },
      "outputs": [],
      "source": [
        "%env VANTAGE_API_CLIENT_ID=YOUR_VANTAGE_API_CLIENT_ID\n",
        "%env VANTAGE_API_CLIENT_SECRET=YOUR_VANTAGE_API_CLIENT_SECRET"
      ]
    },
    {
      "cell_type": "markdown",
      "metadata": {
        "id": "OpCYnWDIdKZF"
      },
      "source": [
        "Now, you can use the `using_client_credentials` method to create a Vantage instance:"
      ]
    },
    {
      "cell_type": "code",
      "execution_count": 10,
      "metadata": {
        "id": "Yd4lT2vlX1qT"
      },
      "outputs": [],
      "source": [
        "from vantage import VantageClient\n",
        "\n",
        "vantage_instance = VantageClient.using_client_credentials(\n",
        "    vantage_client_id=os.environ[\"VANTAGE_API_CLIENT_ID\"],\n",
        "    vantage_client_secret=os.environ[\"VANTAGE_API_CLIENT_SECRET\"],\n",
        "    account_id=ACCOUNT_ID,\n",
        "    api_host=API_HOST,\n",
        "    auth_host=AUTH_HOST,\n",
        ")"
      ]
    },
    {
      "cell_type": "markdown",
      "metadata": {
        "id": "R3gfI6Rdsmcu"
      },
      "source": [
        "## 📌 Next Steps\n",
        "\n",
        "Congratulations! You've successfully initialized the Vantage client in your Python environment. You're now ready to explore the features and capabilities of the Vantage SDK.\n",
        "\n",
        "You can take a look at other notebooks from our [Getting Started with Vantage](https://github.com/VantageDiscovery/vantage-sdk-python/tree/develop/examples/notebooks/getting_started) series or continue using Vantage on your own.\n",
        "\n",
        "If you need some ideas, check our [Use Cases](https://github.com/VantageDiscovery/vantage-sdk-python/tree/develop/examples/notebooks/use_cases) notebooks, where you can find inspiration and best practices for using Vantage.\n",
        "\n",
        "Happy discovering! 🔎"
      ]
    }
  ],
  "metadata": {
    "colab": {
      "provenance": [],
      "toc_visible": true
    },
    "kernelspec": {
      "display_name": "Python 3",
      "name": "python3"
    },
    "language_info": {
      "name": "python"
    }
  },
  "nbformat": 4,
  "nbformat_minor": 0
}
