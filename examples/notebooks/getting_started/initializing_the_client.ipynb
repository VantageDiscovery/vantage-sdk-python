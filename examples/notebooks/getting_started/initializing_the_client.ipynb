{
  "cells": [
    {
      "cell_type": "markdown",
      "metadata": {
        "id": "-t91wzcKTcOg"
      },
      "source": [
        "# Getting Started with Vantage: Initializing the Client\n",
        "\n",
        "Welcome to the first step of our [Getting Started with Vantage](https://github.com/VantageDiscovery/vantage-sdk-python/tree/docs/getting-started-guide/examples/notebooks/getting_started) series, where we embark on a journey to unlock the full potential of the Vantage Python SDK.\n",
        "\n",
        "In this example, we will guide you through the simple yet crucial process of setting up the Vantage client."
      ]
    },
    {
      "cell_type": "markdown",
      "metadata": {
        "id": "foVDygU5Wwl6"
      },
      "source": [
        "### Installation\n",
        "\n",
        "The first step involves installing the package. Execute the command below to install [Vantage](https://test.pypi.org/project/vantage-sdk/):\n",
        "\n",
        "*Note: Currently, we are using Test PyPi, but we are planning transition to the official PyPi index soon*"
      ]
    },
    {
      "cell_type": "code",
      "execution_count": null,
      "metadata": {
        "colab": {
          "base_uri": "https://localhost:8080/"
        },
        "id": "wni6cAVnSa7T",
        "outputId": "fbeb9097-e9f0-4c3d-be71-0149d9de0ac8"
      },
      "outputs": [],
      "source": [
        "pip install -i https://test.pypi.org/simple/ vantage-sdk==0.0.1"
      ]
    },
    {
      "cell_type": "markdown",
      "metadata": {
        "id": "lj8iUMRXbjp1"
      },
      "source": [
        "Next, let's import the necessary libraries for this example:"
      ]
    },
    {
      "cell_type": "code",
      "execution_count": 2,
      "metadata": {
        "id": "eInGZ4GRaV2U"
      },
      "outputs": [],
      "source": [
        "import os"
      ]
    },
    {
      "cell_type": "markdown",
      "metadata": {
        "id": "QTCr5LcQW1rs"
      },
      "source": [
        "## Client Initialization\n",
        "\n",
        "Within the Vantage SDK, you have the flexibility to initialize the client using two authentication methods:\n",
        "- using a JWT token\n",
        "- using client credentials\n",
        "\n",
        "The following cells will demonstrate both methods.\n",
        "\n",
        "Initially, it's required to specify your Account ID, along with the API and AUTH host addresses, which will be configured in the following cell:"
      ]
    },
    {
      "cell_type": "code",
      "execution_count": 3,
      "metadata": {
        "id": "9AuDbBtKYy1g"
      },
      "outputs": [],
      "source": [
        "ACCOUNT_ID = \"YOUR_ACCOUNT_ID\"\n",
        "API_HOST = \"API_HOST\"\n",
        "AUTH_HOST = \"AUTH_HOST\""
      ]
    },
    {
      "cell_type": "markdown",
      "metadata": {
        "id": "m5EECvmIXvYe"
      },
      "source": [
        "<a id='jwt_token'></a>\n",
        "### Client Initialization: *Using JWT Token*\n",
        "\n",
        "In this approach, we're using a JWT token as the authentication method, which you'll need to provide in the cell below. We're assigning it to an `VANTAGE_JWT_TOKEN` environment variable — a step you can replicate in your local environment to seamlessly use the rest of the code as demonstrated in this example."
      ]
    },
    {
      "cell_type": "code",
      "execution_count": null,
      "metadata": {
        "id": "zaD15ONjajv6"
      },
      "outputs": [],
      "source": [
        "%env VANTAGE_JWT_TOKEN=YOUR_VANTAGE_JWT_TOKEN"
      ]
    },
    {
      "cell_type": "markdown",
      "metadata": {
        "id": "IcmACEfVdN3d"
      },
      "source": [
        "Now, you can use the `using_jwt_token` method to create a Vantage instance:"
      ]
    },
    {
      "cell_type": "code",
      "execution_count": 6,
      "metadata": {
        "id": "Om01-HipTTjj"
      },
      "outputs": [],
      "source": [
        "from vantage import Vantage\n",
        "\n",
        "vantage_instance = Vantage.using_jwt_token(\n",
        "    vantage_api_jwt_token=os.environ[\"VANTAGE_JWT_TOKEN\"],\n",
        "    account_id=ACCOUNT_ID,\n",
        "    api_host=API_HOST,\n",
        ")"
      ]
    },
    {
      "cell_type": "markdown",
      "metadata": {
        "id": "ZWepbKgdXwFA"
      },
      "source": [
        "<a id='client_credentials'></a>\n",
        "### Client Initialization: *Using Client Credentials*\n",
        "\n",
        "In this approach, we're using client credentials as the authentication method. Again, we're assigning them to two environment variables (`VANTAGE_CLIENT_ID` and `VANTAGE_CLIENT_SECRET`) — a step you can replicate in your local environment to seamlessly use the rest of the code as demonstrated in this example."
      ]
    },
    {
      "cell_type": "code",
      "execution_count": null,
      "metadata": {
        "id": "4kGdFJ6xbQ2M"
      },
      "outputs": [],
      "source": [
        "%env VANTAGE_API_CLIENT_ID=YOUR_VANTAGE_API_CLIENT_ID\n",
        "%env VANTAGE_API_CLIENT_SECRET=YOUR_VANTAGE_API_CLIENT_SECRET"
      ]
    },
    {
      "cell_type": "markdown",
      "metadata": {
        "id": "OpCYnWDIdKZF"
      },
      "source": [
        "Now, you can use the `using_client_credentials` method to create a Vantage instance:"
      ]
    },
    {
      "cell_type": "code",
      "execution_count": 8,
      "metadata": {
        "id": "Yd4lT2vlX1qT"
      },
      "outputs": [],
      "source": [
        "from vantage import Vantage\n",
        "\n",
        "vantage_instance = Vantage.using_client_credentials(\n",
        "    vantage_client_id=os.environ[\"VANTAGE_API_CLIENT_ID\"],\n",
        "    vantage_client_secret=os.environ[\"VANTAGE_API_CLIENT_SECRET\"],\n",
        "    account_id=ACCOUNT_ID,\n",
        "    api_host=API_HOST,\n",
        "    auth_host=AUTH_HOST,\n",
        ")"
      ]
    },
    {
      "cell_type": "markdown",
      "metadata": {
        "id": "R3gfI6Rdsmcu"
      },
      "source": [
        "## 📌 Next Steps\n",
        "Congratulations! You've successfully initialized the Vantage client in your Python environment. You're now ready to explore the features and capabilities of the Vantage SDK. Check the next guide in our [Getting Started with Vantage](https://github.com/VantageDiscovery/vantage-sdk-python/tree/docs/getting-started-guide/examples/notebooks/getting_started) series, where we'll delve into making your first API call using Vantage.\n",
        "\n",
        "\n",
        "Happy discovering! 🔎"
      ]
    }
  ],
  "metadata": {
    "colab": {
      "provenance": []
    },
    "kernelspec": {
      "display_name": "Python 3",
      "name": "python3"
    },
    "language_info": {
      "name": "python"
    }
  },
  "nbformat": 4,
  "nbformat_minor": 0
}
